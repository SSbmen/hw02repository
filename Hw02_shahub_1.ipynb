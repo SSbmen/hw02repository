{
  "nbformat": 4,
  "nbformat_minor": 0,
  "metadata": {
    "colab": {
      "provenance": [],
      "collapsed_sections": [],
      "authorship_tag": "ABX9TyPYI+uuv0hFGGudANnZbtbx",
      "include_colab_link": true
    },
    "kernelspec": {
      "name": "python3",
      "display_name": "Python 3"
    },
    "language_info": {
      "name": "python"
    }
  },
  "cells": [
    {
      "cell_type": "markdown",
      "metadata": {
        "id": "view-in-github",
        "colab_type": "text"
      },
      "source": [
        "<a href=\"https://colab.research.google.com/github/SSbmen/hw02repository/blob/main/Hw02_shahub_1.ipynb\" target=\"_parent\"><img src=\"https://colab.research.google.com/assets/colab-badge.svg\" alt=\"Open In Colab\"/></a>"
      ]
    },
    {
      "cell_type": "code",
      "execution_count": 5,
      "metadata": {
        "colab": {
          "base_uri": "https://localhost:8080/"
        },
        "id": "kyw8smYcGSwg",
        "outputId": "77330372-bb29-45c8-ac2d-c17539d7a9c4"
      },
      "outputs": [
        {
          "output_type": "stream",
          "name": "stdout",
          "text": [
            "/content/hw02repository\n",
            "\u001b[0m\u001b[01;34m.\u001b[0m/  \u001b[01;34m..\u001b[0m/  \u001b[01;34m.git\u001b[0m/\n"
          ]
        }
      ],
      "source": [
        "# from re import A\n",
        "# # connect google drive to colab notebook\n",
        "# from google.colab import drive\n",
        "# drive.mount('/content/drive')\n",
        "# # Mounted at /content/drive\n",
        "\n",
        "# # initialize repository in Github\n",
        "# !git init hw02repository\n",
        "# # Initialized empty Git repository in /content/hw02repository/.git/\n",
        "\n",
        "# # change working directory to the created repository\n",
        "# %cd hw02repository\n",
        "# %ls -a\n",
        "# # /content/hw02repository\n",
        "# # ./  ../  .git/\n",
        "\n",
        "\n",
        "\n"
      ]
    }
  ]
}