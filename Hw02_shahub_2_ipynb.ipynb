{
  "nbformat": 4,
  "nbformat_minor": 0,
  "metadata": {
    "colab": {
      "provenance": [],
      "authorship_tag": "ABX9TyOjOBW5yT7amgPL/aNvEzfs",
      "include_colab_link": true
    },
    "kernelspec": {
      "name": "python3",
      "display_name": "Python 3"
    },
    "language_info": {
      "name": "python"
    }
  },
  "cells": [
    {
      "cell_type": "markdown",
      "metadata": {
        "id": "view-in-github",
        "colab_type": "text"
      },
      "source": [
        "<a href=\"https://colab.research.google.com/github/SSbmen/hw02repository/blob/main/Hw02_shahub_2_ipynb.ipynb\" target=\"_parent\"><img src=\"https://colab.research.google.com/assets/colab-badge.svg\" alt=\"Open In Colab\"/></a>"
      ]
    },
    {
      "cell_type": "code",
      "execution_count": 1,
      "metadata": {
        "colab": {
          "base_uri": "https://localhost:8080/"
        },
        "id": "nJquMl3nWo62",
        "outputId": "a69072ed-4a80-4595-c92a-2e6a3dccb4a2"
      },
      "outputs": [
        {
          "output_type": "stream",
          "name": "stdout",
          "text": [
            "Mounted at /content/drive\n",
            "Initialized empty Git repository in /content/hw02repository-2/.git/\n",
            "/content/hw02repository-2\n",
            "\u001b[0m\u001b[01;34m.\u001b[0m/  \u001b[01;34m..\u001b[0m/  \u001b[01;34m.git\u001b[0m/\n"
          ]
        }
      ],
      "source": [
        "# from re import A\n",
        "# # connect google drive to colab notebook\n",
        "# from google.colab import drive\n",
        "# drive.mount('/content/drive')\n",
        "# # Mounted at /content/drive\n",
        "\n",
        "# # initialize repository in Github\n",
        "# !git init hw02repository-2\n",
        "# # Initialized empty Git repository in /content/hw02repository-2/.git/\n",
        "\n",
        "# # change working directory to the created repository\n",
        "# %cd hw02repository-2\n",
        "# %ls -a\n",
        "# # /content/hw02repository-2\n",
        "# # ./  ../  .git/\n",
        "\n",
        "\n"
      ]
    }
  ]
}